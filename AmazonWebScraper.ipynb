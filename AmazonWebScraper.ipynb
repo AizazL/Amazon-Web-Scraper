{
 "cells": [
  {
   "cell_type": "code",
   "execution_count": 1,
   "id": "15752220-e25e-4b72-88fa-8f278ec21170",
   "metadata": {},
   "outputs": [],
   "source": [
    "# Importing Libraries\n",
    "from selenium import webdriver\n",
    "from bs4 import BeautifulSoup\n",
    "import chromedriver_binary\n",
    "import time\n",
    "import pandas as pd\n",
    "import openpyxl\n",
    "import numpy as np"
   ]
  },
  {
   "cell_type": "code",
   "execution_count": 2,
   "id": "9a058325-2731-43c9-8d6b-865f69599555",
   "metadata": {},
   "outputs": [],
   "source": [
    "# Setting up webdriver\n",
    "webdriver = webdriver.Chrome()\n",
    "webdriver.implicitly_wait(10)"
   ]
  },
  {
   "cell_type": "code",
   "execution_count": 3,
   "id": "56d8ba1f-76dc-41ff-be9d-64e814e5e96b",
   "metadata": {},
   "outputs": [],
   "source": [
    "# Launching Amazon.ca \n",
    "webdriver.get(\"https://amazon.ca\")"
   ]
  },
  {
   "cell_type": "code",
   "execution_count": 4,
   "id": "ccc1f987-9e73-4c95-b9a9-8580d05af8fa",
   "metadata": {
    "tags": []
   },
   "outputs": [],
   "source": [
    "# Entering Location Info in Order To Find Better Results\n",
    "webdriver.find_element_by_id(\"nav-global-location-popover-link\").click()\n",
    "postalcode_first3 = webdriver.find_element_by_id(\"GLUXZipUpdateInput_0\")\n",
    "postalcode_last3 = webdriver.find_element_by_id(\"GLUXZipUpdateInput_1\")\n",
    "postalcode_first3.send_keys(\"L6Z\")\n",
    "postalcode_last3.send_keys(\"0H9\")\n"
   ]
  },
  {
   "cell_type": "code",
   "execution_count": 5,
   "id": "da607551-39f0-40a2-a421-2f02f2c62302",
   "metadata": {},
   "outputs": [],
   "source": [
    "# Submitting Location Info\n",
    "webdriver.find_element_by_id(\"GLUXZipUpdate\").click()"
   ]
  },
  {
   "cell_type": "code",
   "execution_count": null,
   "id": "281e83eb-cd3b-40c6-8794-17df434272cf",
   "metadata": {},
   "outputs": [],
   "source": []
  },
  {
   "cell_type": "code",
   "execution_count": 6,
   "id": "c725d7c8-b293-4d56-a6f3-9a3345027895",
   "metadata": {},
   "outputs": [],
   "source": [
    "\n",
    "def SearchResults(querylink):\n",
    "    \n",
    "    webdriver.get(querylink)\n",
    "    \n",
    "    # Set up beautiful soup\n",
    "    soup = BeautifulSoup(webdriver.page_source)\n",
    "    \n",
    "    # Create empty variables to use later\n",
    "    attributes = []\n",
    "    items = []\n",
    "    \n",
    "    # Find 'next page' button\n",
    "    next_page_button = webdriver.find_element_by_class_name(\"s-pagination-next\")\n",
    "\n",
    "    # Create our dataframe\n",
    "    Results_Dataframe = pd.DataFrame(columns=[\"Name\", \"Price\", \"Link\"])\n",
    "\n",
    "\n",
    "    # Loop through pages while parsing data until the next page button is disabled\n",
    "    while \"s-pagination-disabled\" not in attributes:\n",
    "\n",
    "        results = soup.findAll(\"div\", {\"data-component-type\": \"s-search-result\"})\n",
    "\n",
    "        for result in results:\n",
    "            name = result.find(\"span\", {\"class\": \"a-text-normal\"})\n",
    "            price = result.find(\"span\", {\"class\": \"a-price-whole\"})\n",
    "            link = result.find(\"a\", {\"class\": \"a-link-normal\"})\n",
    "\n",
    "            # only add items with a listed price\n",
    "            if price: \n",
    "                item = [name.text, price.text, link['href']]\n",
    "                items.append(item)\n",
    "\n",
    "        # update dataframe\n",
    "        dataframe = pd.DataFrame.from_records(items, columns = [\"Name\", \"Price\", \"Link\"])\n",
    "        Results_Dataframe = pd.concat([Results_Dataframe, dataframe])\n",
    "\n",
    "        # go to next page, reset 'next_page_button' var, and recheck its attributes\n",
    "        next_page_button.click()\n",
    "        next_page_button = webdriver.find_element_by_class_name(\"s-pagination-next\")\n",
    "        attributes = next_page_button.get_attribute(\"class\").split() \n",
    "\n",
    "        # cooldown period\n",
    "        time.sleep(2)\n",
    "        \n",
    "    # Convert Price Column to a Float\n",
    "    Results_Dataframe['Price'] = Results_Dataframe['Price'].str.replace(\",\",\"\")\n",
    "    Results_Dataframe['Price'] = Results_Dataframe['Price'].astype(float)\n",
    "    \n",
    "    return Results_Dataframe\n",
    "        "
   ]
  },
  {
   "cell_type": "code",
   "execution_count": 7,
   "id": "980e8948-2dca-400d-85fa-96d68e5ce356",
   "metadata": {},
   "outputs": [],
   "source": [
    "# Amazon query link\n",
    "ResultsDataFrame = SearchResults(\"https://www.amazon.ca/s?k=3080+ti&i=electronics&rh=n%3A677243011%2Cp_n_feature_browse-bin%3A23883856011%2Cp_n_feature_fourteen_browse-bin%3A58373581011&dc&ds=v1%3AkJ3wrzdxa8ZRlN2EEN59lVrcQ%2F0OIEkAVMZB4ClFyOc&crid=20SQBE23HQYQG&qid=1673604787&rnid=58373578011&sprefix=3080+ti%2Caps%2C69&ref=sr_nr_p_n_feature_fourteen_browse-bin_4\")\n",
    "\n",
    "# Filter items by name / price\n",
    "itemFilter = \"3080 Ti\"\n",
    "priceFilter = 3000\n",
    "NewDataFrame = ResultsDataFrame[(ResultsDataFrame.Name.str.contains(itemFilter)) & (ResultsDataFrame.Price <= priceFilter)]\n",
    "\n",
    "# Drop any potential duplicate listings from the dataframe\n",
    "NewDataFrame = NewDataFrame[~NewDataFrame.index.duplicated(keep='first')]\n",
    "NewDataFrame.drop_duplicates()\n",
    "\n",
    "\n",
    "# Fix any incomplete links to items\n",
    "dataFrame_as_array = np.array(NewDataFrame)\n",
    "\n",
    "for x in range(len(dataFrame_as_array)):\n",
    "    \n",
    "    if \"https://www.amazon.ca\" not in dataFrame_as_array[x][2]:\n",
    "        dataFrame_as_array[x][2] =  \"https://www.amazon.ca\" + dataFrame_as_array[x][2]\n",
    "        \n",
    "df = pd.DataFrame(dataFrame_as_array)\n",
    "\n",
    "# Export dataframe to excel file, create it if it doesn't exist.\n",
    "df.to_excel(\"output.xlsx\")\n",
    "\n"
   ]
  },
  {
   "cell_type": "code",
   "execution_count": null,
   "id": "19d9091f-c2f9-451a-b8dd-fbb4955137ee",
   "metadata": {},
   "outputs": [],
   "source": []
  },
  {
   "cell_type": "code",
   "execution_count": null,
   "id": "0234d4d4-bda7-4fbd-aee3-0ef838632fb2",
   "metadata": {},
   "outputs": [],
   "source": []
  }
 ],
 "metadata": {
  "kernelspec": {
   "display_name": "Python 3 (ipykernel)",
   "language": "python",
   "name": "python3"
  },
  "language_info": {
   "codemirror_mode": {
    "name": "ipython",
    "version": 3
   },
   "file_extension": ".py",
   "mimetype": "text/x-python",
   "name": "python",
   "nbconvert_exporter": "python",
   "pygments_lexer": "ipython3",
   "version": "3.9.15"
  }
 },
 "nbformat": 4,
 "nbformat_minor": 5
}
